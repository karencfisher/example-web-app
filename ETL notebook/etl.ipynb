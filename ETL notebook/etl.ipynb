{
 "cells": [
  {
   "cell_type": "markdown",
   "metadata": {},
   "source": [
    "# Extract data and transform\n",
    "\n",
    "Make a database from the Average Monthly Temperature by US State dataset from Kaggle.\n",
    "We will extract the original dataset and transform it into relational SQL tables in a\n",
    "SQLite database.\n",
    "\n",
    "https://www.kaggle.com/datasets/justinrwong/average-monthly-temperature-by-us-state"
   ]
  },
  {
   "cell_type": "code",
   "execution_count": 1,
   "metadata": {},
   "outputs": [],
   "source": [
    "import pandas as pd\n",
    "from pathlib import Path"
   ]
  },
  {
   "cell_type": "markdown",
   "metadata": {},
   "source": [
    "### Read temperature data from original CSV file"
   ]
  },
  {
   "cell_type": "code",
   "execution_count": 2,
   "metadata": {},
   "outputs": [
    {
     "data": {
      "text/html": [
       "<div>\n",
       "<style scoped>\n",
       "    .dataframe tbody tr th:only-of-type {\n",
       "        vertical-align: middle;\n",
       "    }\n",
       "\n",
       "    .dataframe tbody tr th {\n",
       "        vertical-align: top;\n",
       "    }\n",
       "\n",
       "    .dataframe thead th {\n",
       "        text-align: right;\n",
       "    }\n",
       "</style>\n",
       "<table border=\"1\" class=\"dataframe\">\n",
       "  <thead>\n",
       "    <tr style=\"text-align: right;\">\n",
       "      <th></th>\n",
       "      <th>month</th>\n",
       "      <th>year</th>\n",
       "      <th>state</th>\n",
       "      <th>average_temp</th>\n",
       "      <th>centroid_lon</th>\n",
       "      <th>centroid_lat</th>\n",
       "    </tr>\n",
       "  </thead>\n",
       "  <tbody>\n",
       "    <tr>\n",
       "      <th>0</th>\n",
       "      <td>1</td>\n",
       "      <td>1950</td>\n",
       "      <td>Alabama</td>\n",
       "      <td>53.8</td>\n",
       "      <td>-86.828372</td>\n",
       "      <td>32.789832</td>\n",
       "    </tr>\n",
       "    <tr>\n",
       "      <th>1</th>\n",
       "      <td>1</td>\n",
       "      <td>1950</td>\n",
       "      <td>Arizona</td>\n",
       "      <td>39.6</td>\n",
       "      <td>-111.664418</td>\n",
       "      <td>34.293110</td>\n",
       "    </tr>\n",
       "    <tr>\n",
       "      <th>2</th>\n",
       "      <td>1</td>\n",
       "      <td>1950</td>\n",
       "      <td>Arkansas</td>\n",
       "      <td>45.6</td>\n",
       "      <td>-92.439268</td>\n",
       "      <td>34.899745</td>\n",
       "    </tr>\n",
       "    <tr>\n",
       "      <th>3</th>\n",
       "      <td>1</td>\n",
       "      <td>1950</td>\n",
       "      <td>California</td>\n",
       "      <td>39.4</td>\n",
       "      <td>-119.610699</td>\n",
       "      <td>37.246071</td>\n",
       "    </tr>\n",
       "    <tr>\n",
       "      <th>4</th>\n",
       "      <td>1</td>\n",
       "      <td>1950</td>\n",
       "      <td>Colorado</td>\n",
       "      <td>25.2</td>\n",
       "      <td>-105.547825</td>\n",
       "      <td>38.998552</td>\n",
       "    </tr>\n",
       "  </tbody>\n",
       "</table>\n",
       "</div>"
      ],
      "text/plain": [
       "   month  year       state  average_temp  centroid_lon  centroid_lat\n",
       "0      1  1950     Alabama          53.8    -86.828372     32.789832\n",
       "1      1  1950     Arizona          39.6   -111.664418     34.293110\n",
       "2      1  1950    Arkansas          45.6    -92.439268     34.899745\n",
       "3      1  1950  California          39.4   -119.610699     37.246071\n",
       "4      1  1950    Colorado          25.2   -105.547825     38.998552"
      ]
     },
     "execution_count": 2,
     "metadata": {},
     "output_type": "execute_result"
    }
   ],
   "source": [
    "df = pd.read_csv(Path('../data/average_monthly_temperature_by_state_1950-2022.csv'))\n",
    "df.drop(columns=[\"Unnamed: 0\", \"monthly_mean_from_1901_to_2000\"], inplace=True)\n",
    "df.head()"
   ]
  },
  {
   "cell_type": "markdown",
   "metadata": {},
   "source": [
    "### Get state two letter ids and make states table\n",
    "\n",
    "Creates our states table"
   ]
  },
  {
   "cell_type": "code",
   "execution_count": 3,
   "metadata": {},
   "outputs": [
    {
     "data": {
      "text/html": [
       "<div>\n",
       "<style scoped>\n",
       "    .dataframe tbody tr th:only-of-type {\n",
       "        vertical-align: middle;\n",
       "    }\n",
       "\n",
       "    .dataframe tbody tr th {\n",
       "        vertical-align: top;\n",
       "    }\n",
       "\n",
       "    .dataframe thead th {\n",
       "        text-align: right;\n",
       "    }\n",
       "</style>\n",
       "<table border=\"1\" class=\"dataframe\">\n",
       "  <thead>\n",
       "    <tr style=\"text-align: right;\">\n",
       "      <th></th>\n",
       "      <th>state</th>\n",
       "      <th>state_id</th>\n",
       "    </tr>\n",
       "  </thead>\n",
       "  <tbody>\n",
       "    <tr>\n",
       "      <th>0</th>\n",
       "      <td>Alabama</td>\n",
       "      <td>AL</td>\n",
       "    </tr>\n",
       "    <tr>\n",
       "      <th>1</th>\n",
       "      <td>Alaska</td>\n",
       "      <td>AK</td>\n",
       "    </tr>\n",
       "    <tr>\n",
       "      <th>2</th>\n",
       "      <td>Arkansas</td>\n",
       "      <td>AR</td>\n",
       "    </tr>\n",
       "    <tr>\n",
       "      <th>3</th>\n",
       "      <td>Arizona</td>\n",
       "      <td>AZ</td>\n",
       "    </tr>\n",
       "    <tr>\n",
       "      <th>4</th>\n",
       "      <td>California</td>\n",
       "      <td>CA</td>\n",
       "    </tr>\n",
       "  </tbody>\n",
       "</table>\n",
       "</div>"
      ],
      "text/plain": [
       "        state state_id\n",
       "0     Alabama       AL\n",
       "1      Alaska       AK\n",
       "2    Arkansas       AR\n",
       "3     Arizona       AZ\n",
       "4  California       CA"
      ]
     },
     "execution_count": 3,
     "metadata": {},
     "output_type": "execute_result"
    }
   ],
   "source": [
    "# Just scraping the table from the first web site I saw with the information\n",
    "df_states = pd.read_html('https://www.bu.edu/brand/guidelines/editorial-style/us-state-abbreviations/',\n",
    "                         header=0)[0]\n",
    "df_states.drop(columns=[\"Traditional Abbreviation\"], inplace=True)\n",
    "df_states.rename(columns={\"Full Name\": \"state\", \"2-letter USPS\": \"state_id\"}, inplace=True)\n",
    "\n",
    "df_states.to_csv(Path('../data/states.csv'), index=False)\n",
    "df_states.head()"
   ]
  },
  {
   "cell_type": "markdown",
   "metadata": {},
   "source": [
    "### Merge state ids and drop state names and centroids\n",
    "\n",
    "Creates our temperatures table"
   ]
  },
  {
   "cell_type": "code",
   "execution_count": 4,
   "metadata": {},
   "outputs": [
    {
     "data": {
      "text/html": [
       "<div>\n",
       "<style scoped>\n",
       "    .dataframe tbody tr th:only-of-type {\n",
       "        vertical-align: middle;\n",
       "    }\n",
       "\n",
       "    .dataframe tbody tr th {\n",
       "        vertical-align: top;\n",
       "    }\n",
       "\n",
       "    .dataframe thead th {\n",
       "        text-align: right;\n",
       "    }\n",
       "</style>\n",
       "<table border=\"1\" class=\"dataframe\">\n",
       "  <thead>\n",
       "    <tr style=\"text-align: right;\">\n",
       "      <th></th>\n",
       "      <th>month</th>\n",
       "      <th>year</th>\n",
       "      <th>average_temp</th>\n",
       "      <th>state_id</th>\n",
       "    </tr>\n",
       "  </thead>\n",
       "  <tbody>\n",
       "    <tr>\n",
       "      <th>0</th>\n",
       "      <td>1</td>\n",
       "      <td>1950</td>\n",
       "      <td>53.8</td>\n",
       "      <td>AL</td>\n",
       "    </tr>\n",
       "    <tr>\n",
       "      <th>1</th>\n",
       "      <td>1</td>\n",
       "      <td>1950</td>\n",
       "      <td>39.6</td>\n",
       "      <td>AZ</td>\n",
       "    </tr>\n",
       "    <tr>\n",
       "      <th>2</th>\n",
       "      <td>1</td>\n",
       "      <td>1950</td>\n",
       "      <td>45.6</td>\n",
       "      <td>AR</td>\n",
       "    </tr>\n",
       "    <tr>\n",
       "      <th>3</th>\n",
       "      <td>1</td>\n",
       "      <td>1950</td>\n",
       "      <td>39.4</td>\n",
       "      <td>CA</td>\n",
       "    </tr>\n",
       "    <tr>\n",
       "      <th>4</th>\n",
       "      <td>1</td>\n",
       "      <td>1950</td>\n",
       "      <td>25.2</td>\n",
       "      <td>CO</td>\n",
       "    </tr>\n",
       "  </tbody>\n",
       "</table>\n",
       "</div>"
      ],
      "text/plain": [
       "   month  year  average_temp state_id\n",
       "0      1  1950          53.8       AL\n",
       "1      1  1950          39.6       AZ\n",
       "2      1  1950          45.6       AR\n",
       "3      1  1950          39.4       CA\n",
       "4      1  1950          25.2       CO"
      ]
     },
     "execution_count": 4,
     "metadata": {},
     "output_type": "execute_result"
    }
   ],
   "source": [
    "df = df.merge(df_states[['state', 'state_id']], on=\"state\", how=\"left\")\n",
    "df.drop(columns=['state', 'centroid_lat', 'centroid_lon'], inplace=True)\n",
    "df.to_csv(Path('../data/temperatures.csv'), index=False)\n",
    "df.head()"
   ]
  },
  {
   "cell_type": "markdown",
   "metadata": {},
   "source": [
    "# Create and load database"
   ]
  },
  {
   "cell_type": "code",
   "execution_count": 5,
   "metadata": {},
   "outputs": [],
   "source": [
    "import csv\n",
    "import re\n",
    "import sqlite3"
   ]
  },
  {
   "cell_type": "markdown",
   "metadata": {},
   "source": [
    "### Create database and tables"
   ]
  },
  {
   "cell_type": "code",
   "execution_count": 6,
   "metadata": {},
   "outputs": [],
   "source": [
    "conn = sqlite3.connect(Path('../db/temperatures.sqlite'))\n",
    "cursor = conn.cursor()\n",
    "\n",
    "# create tables from schema\n",
    "with open(Path('../db/schema.sql'), 'r') as FILE:\n",
    "    data = FILE.read()\n",
    "queries = data.split(';')\n",
    "queries = list(map(lambda x: x.strip() + ';', queries))\n",
    "\n",
    "for query in queries:\n",
    "    if len(query) > 1:\n",
    "        cursor.execute(query)\n",
    "conn.commit()"
   ]
  },
  {
   "cell_type": "markdown",
   "metadata": {},
   "source": [
    "### Load tables from cleaned CSV files"
   ]
  },
  {
   "cell_type": "markdown",
   "metadata": {},
   "source": [
    "This is a helper function to infer types from the CSV values"
   ]
  },
  {
   "cell_type": "code",
   "execution_count": 7,
   "metadata": {},
   "outputs": [],
   "source": [
    "def infer_types(items):\n",
    "    items_typed = []\n",
    "    for item in items:\n",
    "        if re.fullmatch(r'[0-9]+\\.?[0-9]+', item): #is it a float?\n",
    "            items_typed.append(float(item))\n",
    "        elif item.isnumeric(): #or an integer?\n",
    "            items_typed.append(int(item))\n",
    "        else: #anything else\n",
    "            items_typed.append(item)\n",
    "    return tuple(items_typed)"
   ]
  },
  {
   "cell_type": "code",
   "execution_count": 8,
   "metadata": {},
   "outputs": [
    {
     "name": "stdout",
     "output_type": "stream",
     "text": [
      "Inserting data to states\n",
      "Inserting data to temperatures\n",
      "Done!\n"
     ]
    }
   ],
   "source": [
    "tables = ['states', 'temperatures']\n",
    "\n",
    "for table in tables:\n",
    "    print(f'Inserting data to {table}')\n",
    "    # get data from csv file for table\n",
    "    csv_file = Path(f'../data/{table}.csv')\n",
    "    with open(csv_file, 'r') as FILE:\n",
    "        reader = csv.reader(FILE)\n",
    "        rows = []\n",
    "        columns = tuple(next(reader))\n",
    "        for row in reader:\n",
    "            rows.append(infer_types(row))\n",
    "    \n",
    "    # build insert SQL\n",
    "    sql = f'INSERT INTO {table} ({\", \".join(columns)}) VALUES '\n",
    "    for row in rows[:-1]:\n",
    "        sql += f'{row}, '\n",
    "    sql += f'{rows[-1]};'\n",
    "    \n",
    "    # run sql\n",
    "    cursor.execute(sql)\n",
    "    conn.commit()\n",
    "print('Done!')"
   ]
  },
  {
   "cell_type": "code",
   "execution_count": 9,
   "metadata": {},
   "outputs": [],
   "source": [
    "cursor.close()\n",
    "conn.close()"
   ]
  }
 ],
 "metadata": {
  "kernelspec": {
   "display_name": "edxclass2",
   "language": "python",
   "name": "python3"
  },
  "language_info": {
   "codemirror_mode": {
    "name": "ipython",
    "version": 3
   },
   "file_extension": ".py",
   "mimetype": "text/x-python",
   "name": "python",
   "nbconvert_exporter": "python",
   "pygments_lexer": "ipython3",
   "version": "3.9.18"
  }
 },
 "nbformat": 4,
 "nbformat_minor": 2
}
